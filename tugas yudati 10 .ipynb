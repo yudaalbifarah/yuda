{
 "cells": [
  {
   "cell_type": "code",
   "execution_count": null,
   "metadata": {
    "id": "lffvGHSiKITi"
   },
   "outputs": [],
   "source": [
    "kendaraan = ['beat karbu',\n",
    "'motor', 200, 'pink', 2]\n",
    "print(kendaraan)\n",
    "\n",
    "kendaraan.append('13jt')\n",
    "kendaraan.append('matic')\n",
    "print(kendaraan)\n",
    "\n",
    "kendaraan.insert(2, 'honda')\n",
    "print(kendaraan)\n",
    "\n",
    "print(type(kendaraan))\n",
    "print(type(kendaraan[0]))\n",
    "print(type(kendaraan[1]))\n",
    "print(type(kendaraan[2]))\n",
    "print(type(kendaraan[3]))\n",
    "print(type(kendaraan[4]))\n",
    "print(type(kendaraan[5]))\n",
    "print(type(kendaraan[6]))\n",
    "print(type(kendaraan[7]))\n"
   ]
  },
  {
   "cell_type": "code",
   "execution_count": null,
   "metadata": {
    "id": "1GsC8LxvN6F3"
   },
   "outputs": [],
   "source": [
    "hitung_luas = int(input(\"\"\"piliih\n",
    "salah satu:\n",
    "1. hitung luas persegi\n",
    "2. hitung luas lingkaran\n",
    "3. hihtung luas seegitiga\n",
    "\"\"\"))\n",
    "match hitung_luas:\n",
    "    case 1:\n",
    "        print('menghitung luas persegi')\n",
    "        sisi = int(input('masukkan nilai sisi:  '))\n",
    "        hitung_luas_persegi = sisi  ==2\n",
    "        print(f'jadi luas_persegi dengan sisi (sisi) cm adalah(hitung_luas_persegi) cm^2')\n",
    "    case  _:\n",
    "        print('pilihan tidak in valid')\n"
   ]
  },
  {
   "cell_type": "code",
   "execution_count": null,
   "metadata": {
    "id": "0rOoxwxUfrO0"
   },
   "outputs": [],
   "source": [
    "def hitung_luas():\n",
    "    print(\"Pilih bangun datar:\")\n",
    "    print(\"1. Persegi\")\n",
    "    print(\"2. Lingkaran\")\n",
    "    print(\"3. Segitiga\")\n",
    "\n",
    "    pilihan = int(input(\"Masukkan pilihan (1/2/3): \"))\n",
    "\n",
    "    match pilihan:\n",
    "        case 1:\n",
    "            sisi = float(input(\"Masukkan panjang sisi persegi: \"))\n",
    "            luas = sisi ** 2\n",
    "            print(f\"Luas persegi adalah: {luas}\")\n",
    "\n",
    "        case 2:\n",
    "            jari_jari = float(input(\"Masukkan jari-jari lingkaran: \"))\n",
    "            luas = 3.14 * jari_jari ** 2\n",
    "            print(f\"Luas lingkaran adalah: {luas}\")\n",
    "\n",
    "        case 3:\n",
    "            alas = float(input(\"Masukkan panjang alas segitiga: \"))\n",
    "            tinggi = float(input(\"Masukkan tinggi segitiga: \"))\n",
    "            luas = 0.5 * alas * tinggi\n",
    "            print(f\"Luas segitiga adalah: {luas}\")\n",
    "\n",
    "        case _:\n",
    "            print(\"Salah pilih. Pilihan tidak ada.\")\n",
    "\n",
    "hitung_luas()"
   ]
  },
  {
   "cell_type": "code",
   "execution_count": null,
   "metadata": {
    "id": "Ycj3ocn8oNQz"
   },
   "outputs": [],
   "source": [
    "from google.colab import drive\n",
    "drive.mount('/content/drive')"
   ]
  },
  {
   "cell_type": "code",
   "execution_count": null,
   "metadata": {
    "id": "nVkc1Y6GiEZg"
   },
   "outputs": [],
   "source": [
    "def hitung_luas():\n",
    "    print(\"Pilih bangun datar:\")\n",
    "    print(\"1. Persegi\")\n",
    "    print(\"2. Lingkaran\")\n",
    "    print(\"3. Segitiga\")\n",
    "\n",
    "    pilihan = int(input(\"Masukkan pilihan (1/2/3): \"))\n",
    "\n",
    "    match pilihan:\n",
    "        case 1:\n",
    "            sisi = float(input(\"Masukkan panjang sisi persegi: \"))\n",
    "            luas = sisi ** 2\n",
    "            print(f\"Luas persegi adalah: {luas}\")\n",
    "\n",
    "        case 2:\n",
    "            jari_jari = float(input(\"Masukkan jari-jari lingkaran: \"))\n",
    "            luas = 3.14 * jari_jari ** 2\n",
    "            print(f\"Luas lingkaran adalah: {luas}\")\n",
    "\n",
    "        case 3:\n",
    "            alas = float(input(\"Masukkan panjang alas segitiga: \"))\n",
    "            tinggi = float(input(\"Masukkan tinggi segitiga: \"))\n",
    "            luas = 0.5 * alas * tinggi\n",
    "            print(f\"Luas segitiga adalah: {luas}\")\n",
    "\n",
    "        case _:\n",
    "            print(\"Salah pilih. Pilihan tidak ada.\")\n",
    "\n",
    "hitung_luas()"
   ]
  },
  {
   "cell_type": "code",
   "execution_count": null,
   "metadata": {
    "id": "-iIb6o6whvvj"
   },
   "outputs": [],
   "source": []
  }
 ],
 "metadata": {
  "colab": {
   "authorship_tag": "ABX9TyMMOLEA88XzI+hJpn+/3I7M",
   "private_outputs": true,
   "provenance": []
  },
  "kernelspec": {
   "display_name": "Python 3",
   "name": "python3"
  },
  "language_info": {
   "name": "python"
  }
 },
 "nbformat": 4,
 "nbformat_minor": 0
}
